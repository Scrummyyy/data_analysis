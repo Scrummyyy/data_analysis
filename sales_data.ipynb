{
 "cells": [
  {
   "cell_type": "code",
   "execution_count": 2,
   "id": "1b185711-cca6-4c9e-a4e7-bfdc3e8e5b99",
   "metadata": {},
   "outputs": [],
   "source": [
    "#import libraries\n",
    "import pandas as pd\n",
    "import matplotlib.pyplot as plt\n",
    "import seaborn as sns"
   ]
  },
  {
   "cell_type": "code",
   "execution_count": 3,
   "id": "7bbb7e04-3e47-4a5e-aa31-1053e3989019",
   "metadata": {},
   "outputs": [
    {
     "data": {
      "text/html": [
       "<div>\n",
       "<style scoped>\n",
       "    .dataframe tbody tr th:only-of-type {\n",
       "        vertical-align: middle;\n",
       "    }\n",
       "\n",
       "    .dataframe tbody tr th {\n",
       "        vertical-align: top;\n",
       "    }\n",
       "\n",
       "    .dataframe thead th {\n",
       "        text-align: right;\n",
       "    }\n",
       "</style>\n",
       "<table border=\"1\" class=\"dataframe\">\n",
       "  <thead>\n",
       "    <tr style=\"text-align: right;\">\n",
       "      <th></th>\n",
       "      <th>Order Date</th>\n",
       "      <th>Order ID</th>\n",
       "      <th>Product</th>\n",
       "      <th>Product_ean</th>\n",
       "      <th>catégorie</th>\n",
       "      <th>Purchase Address</th>\n",
       "      <th>Quantity Ordered</th>\n",
       "      <th>Price Each</th>\n",
       "      <th>Cost price</th>\n",
       "      <th>turnover</th>\n",
       "      <th>margin</th>\n",
       "    </tr>\n",
       "  </thead>\n",
       "  <tbody>\n",
       "    <tr>\n",
       "      <th>0</th>\n",
       "      <td>2019-01-22 21:25:00</td>\n",
       "      <td>141234</td>\n",
       "      <td>iPhone</td>\n",
       "      <td>5.638009e+12</td>\n",
       "      <td>Vêtements</td>\n",
       "      <td>944 Walnut St, Boston, MA 02215</td>\n",
       "      <td>1</td>\n",
       "      <td>700.00</td>\n",
       "      <td>231.0000</td>\n",
       "      <td>700.00</td>\n",
       "      <td>469.0000</td>\n",
       "    </tr>\n",
       "    <tr>\n",
       "      <th>1</th>\n",
       "      <td>2019-01-28 14:15:00</td>\n",
       "      <td>141235</td>\n",
       "      <td>Lightning Charging Cable</td>\n",
       "      <td>5.563320e+12</td>\n",
       "      <td>Alimentation</td>\n",
       "      <td>185 Maple St, Portland, OR 97035</td>\n",
       "      <td>1</td>\n",
       "      <td>14.95</td>\n",
       "      <td>7.4750</td>\n",
       "      <td>14.95</td>\n",
       "      <td>7.4750</td>\n",
       "    </tr>\n",
       "    <tr>\n",
       "      <th>2</th>\n",
       "      <td>2019-01-17 13:33:00</td>\n",
       "      <td>141236</td>\n",
       "      <td>Wired Headphones</td>\n",
       "      <td>2.113973e+12</td>\n",
       "      <td>Vêtements</td>\n",
       "      <td>538 Adams St, San Francisco, CA 94016</td>\n",
       "      <td>2</td>\n",
       "      <td>11.99</td>\n",
       "      <td>5.9950</td>\n",
       "      <td>23.98</td>\n",
       "      <td>11.9900</td>\n",
       "    </tr>\n",
       "    <tr>\n",
       "      <th>3</th>\n",
       "      <td>2019-01-05 20:33:00</td>\n",
       "      <td>141237</td>\n",
       "      <td>27in FHD Monitor</td>\n",
       "      <td>3.069157e+12</td>\n",
       "      <td>Sports</td>\n",
       "      <td>738 10th St, Los Angeles, CA 90001</td>\n",
       "      <td>1</td>\n",
       "      <td>149.99</td>\n",
       "      <td>97.4935</td>\n",
       "      <td>149.99</td>\n",
       "      <td>52.4965</td>\n",
       "    </tr>\n",
       "    <tr>\n",
       "      <th>4</th>\n",
       "      <td>2019-01-25 11:59:00</td>\n",
       "      <td>141238</td>\n",
       "      <td>Wired Headphones</td>\n",
       "      <td>9.692681e+12</td>\n",
       "      <td>Électronique</td>\n",
       "      <td>387 10th St, Austin, TX 73301</td>\n",
       "      <td>1</td>\n",
       "      <td>11.99</td>\n",
       "      <td>5.9950</td>\n",
       "      <td>11.99</td>\n",
       "      <td>5.9950</td>\n",
       "    </tr>\n",
       "  </tbody>\n",
       "</table>\n",
       "</div>"
      ],
      "text/plain": [
       "            Order Date  Order ID                   Product   Product_ean  \\\n",
       "0  2019-01-22 21:25:00    141234                    iPhone  5.638009e+12   \n",
       "1  2019-01-28 14:15:00    141235  Lightning Charging Cable  5.563320e+12   \n",
       "2  2019-01-17 13:33:00    141236          Wired Headphones  2.113973e+12   \n",
       "3  2019-01-05 20:33:00    141237          27in FHD Monitor  3.069157e+12   \n",
       "4  2019-01-25 11:59:00    141238          Wired Headphones  9.692681e+12   \n",
       "\n",
       "      catégorie                       Purchase Address  Quantity Ordered  \\\n",
       "0     Vêtements        944 Walnut St, Boston, MA 02215                 1   \n",
       "1  Alimentation       185 Maple St, Portland, OR 97035                 1   \n",
       "2     Vêtements  538 Adams St, San Francisco, CA 94016                 2   \n",
       "3        Sports     738 10th St, Los Angeles, CA 90001                 1   \n",
       "4  Électronique          387 10th St, Austin, TX 73301                 1   \n",
       "\n",
       "   Price Each  Cost price  turnover    margin  \n",
       "0      700.00    231.0000    700.00  469.0000  \n",
       "1       14.95      7.4750     14.95    7.4750  \n",
       "2       11.99      5.9950     23.98   11.9900  \n",
       "3      149.99     97.4935    149.99   52.4965  \n",
       "4       11.99      5.9950     11.99    5.9950  "
      ]
     },
     "execution_count": 3,
     "metadata": {},
     "output_type": "execute_result"
    }
   ],
   "source": [
    "#reading file\n",
    "df = pd.read_csv(r'C:\\Projects\\JN\\dataset_sales orders\\sales_data.csv')\n",
    "df.head()"
   ]
  },
  {
   "cell_type": "code",
   "execution_count": 4,
   "id": "d4316766-4874-4469-bf13-dceedb17b3c0",
   "metadata": {},
   "outputs": [
    {
     "name": "stdout",
     "output_type": "stream",
     "text": [
      "<class 'pandas.core.frame.DataFrame'>\n",
      "RangeIndex: 185950 entries, 0 to 185949\n",
      "Data columns (total 11 columns):\n",
      " #   Column            Non-Null Count   Dtype  \n",
      "---  ------            --------------   -----  \n",
      " 0   Order Date        185950 non-null  object \n",
      " 1   Order ID          185950 non-null  int64  \n",
      " 2   Product           185950 non-null  object \n",
      " 3   Product_ean       185950 non-null  float64\n",
      " 4   catégorie         185950 non-null  object \n",
      " 5   Purchase Address  185950 non-null  object \n",
      " 6   Quantity Ordered  185950 non-null  int64  \n",
      " 7   Price Each        185950 non-null  float64\n",
      " 8   Cost price        185950 non-null  float64\n",
      " 9   turnover          185950 non-null  float64\n",
      " 10  margin            185950 non-null  float64\n",
      "dtypes: float64(5), int64(2), object(4)\n",
      "memory usage: 15.6+ MB\n"
     ]
    }
   ],
   "source": [
    "#info\n",
    "df.info()"
   ]
  },
  {
   "cell_type": "code",
   "execution_count": 17,
   "id": "ae6ab78d-06f9-4162-b8c0-50f98e9384cf",
   "metadata": {},
   "outputs": [
    {
     "data": {
      "text/plain": [
       "Order Date          0\n",
       "Order ID            0\n",
       "Product             0\n",
       "Product_ean         0\n",
       "catégorie           0\n",
       "Purchase Address    0\n",
       "Quantity Ordered    0\n",
       "Price Each          0\n",
       "Cost price          0\n",
       "turnover            0\n",
       "margin              0\n",
       "dtype: int64"
      ]
     },
     "execution_count": 17,
     "metadata": {},
     "output_type": "execute_result"
    }
   ],
   "source": [
    "#null values in dataframe\n",
    "df.isnull().sum()"
   ]
  },
  {
   "cell_type": "code",
   "execution_count": 5,
   "id": "e7d3850a-4b88-48b7-8b1e-0421a79c2bc3",
   "metadata": {},
   "outputs": [],
   "source": [
    "df['Order Date'] = pd.to_datetime(df['Order Date'])\n",
    "df['Month'] = df['Order Date'].dt.to_period('M')"
   ]
  },
  {
   "cell_type": "code",
   "execution_count": 6,
   "id": "97d025e9-df36-48b9-b3f6-0f5eafb7364e",
   "metadata": {},
   "outputs": [
    {
     "data": {
      "text/plain": [
       "Month\n",
       "2019-01    1813586.44\n",
       "2019-02    2202022.42\n",
       "2019-03    2807100.38\n",
       "2019-04    3390670.24\n",
       "2019-05    3152606.75\n",
       "Freq: M, Name: turnover, dtype: float64"
      ]
     },
     "execution_count": 6,
     "metadata": {},
     "output_type": "execute_result"
    }
   ],
   "source": [
    "#Monthly_sales\n",
    "monthly_sales = df.groupby('Month')['turnover'].sum()\n",
    "monthly_sales.head()"
   ]
  },
  {
   "cell_type": "code",
   "execution_count": 7,
   "id": "e0578234-6264-4ef8-93e9-4506591bde31",
   "metadata": {},
   "outputs": [
    {
     "data": {
      "image/png": "[encoded data removed]",
      "text/plain": [
       "<Figure size 1200x600 with 1 Axes>"
      ]
     },
     "metadata": {},
     "output_type": "display_data"
    }
   ],
   "source": [
    "# Vizualization monthly_sales\n",
    "plt.figure(figsize=(12,6))\n",
    "monthly_sales.plot(kind='line', marker='o')\n",
    "plt.title('Total Sales per Month')\n",
    "plt.ylabel('Sales ($)')\n",
    "plt.xlabel('Month')\n",
    "plt.grid(True)\n",
    "plt.show()"
   ]
  },
  {
   "cell_type": "code",
   "execution_count": 8,
   "id": "4ab55ece-e9d9-4c12-a1b8-6969f00e592c",
   "metadata": {},
   "outputs": [
    {
     "data": {
      "text/plain": [
       "Product\n",
       "Macbook Pro Laptop        8037600.00\n",
       "iPhone                    4794300.00\n",
       "ThinkPad Laptop           4129958.70\n",
       "Google Phone              3319200.00\n",
       "27in 4K Gaming Monitor    2435097.56\n",
       "Name: turnover, dtype: float64"
      ]
     },
     "execution_count": 8,
     "metadata": {},
     "output_type": "execute_result"
    }
   ],
   "source": [
    "#Top 5 products by revenue\n",
    "top_5_products = df.groupby('Product')['turnover'].sum().sort_values(ascending = False).head()\n",
    "top_5_products"
   ]
  },
  {
   "cell_type": "code",
   "execution_count": 9,
   "id": "6bc0203a-94f7-4e38-9af9-1514199903f6",
   "metadata": {},
   "outputs": [
    {
     "data": {
      "image/png": "[encoded data removed]",
      "text/plain": [
       "<Figure size 1500x600 with 1 Axes>"
      ]
     },
     "metadata": {},
     "output_type": "display_data"
    }
   ],
   "source": [
    "# Vizualization products by revenue\n",
    "plt.figure(figsize=(15, 6))\n",
    "sns.barplot(data=top_5_products, color = 'Red')\n",
    "\n",
    "plt.title('Top 5 products')\n",
    "plt.xlabel('Product')\n",
    "plt.ylabel('Sales ($)')\n",
    "plt.xticks(rotation=0)\n",
    "plt.tight_layout()\n",
    "plt.show()"
   ]
  },
  {
   "cell_type": "code",
   "execution_count": 10,
   "id": "8215f32a-41a8-4815-92c4-1d237bf0a665",
   "metadata": {},
   "outputs": [
    {
     "data": {
      "text/html": [
       "<div>\n",
       "<style scoped>\n",
       "    .dataframe tbody tr th:only-of-type {\n",
       "        vertical-align: middle;\n",
       "    }\n",
       "\n",
       "    .dataframe tbody tr th {\n",
       "        vertical-align: top;\n",
       "    }\n",
       "\n",
       "    .dataframe thead th {\n",
       "        text-align: right;\n",
       "    }\n",
       "</style>\n",
       "<table border=\"1\" class=\"dataframe\">\n",
       "  <thead>\n",
       "    <tr style=\"text-align: right;\">\n",
       "      <th></th>\n",
       "      <th>catégorie</th>\n",
       "      <th>turnover</th>\n",
       "    </tr>\n",
       "  </thead>\n",
       "  <tbody>\n",
       "    <tr>\n",
       "      <th>0</th>\n",
       "      <td>Alimentation</td>\n",
       "      <td>8612544.53</td>\n",
       "    </tr>\n",
       "    <tr>\n",
       "      <th>1</th>\n",
       "      <td>Sports</td>\n",
       "      <td>8670290.44</td>\n",
       "    </tr>\n",
       "    <tr>\n",
       "      <th>2</th>\n",
       "      <td>Vêtements</td>\n",
       "      <td>8601579.46</td>\n",
       "    </tr>\n",
       "    <tr>\n",
       "      <th>3</th>\n",
       "      <td>Électronique</td>\n",
       "      <td>8607621.54</td>\n",
       "    </tr>\n",
       "  </tbody>\n",
       "</table>\n",
       "</div>"
      ],
      "text/plain": [
       "      catégorie    turnover\n",
       "0  Alimentation  8612544.53\n",
       "1        Sports  8670290.44\n",
       "2     Vêtements  8601579.46\n",
       "3  Électronique  8607621.54"
      ]
     },
     "execution_count": 10,
     "metadata": {},
     "output_type": "execute_result"
    }
   ],
   "source": [
    "#Sales by category\n",
    "category_sales = df.groupby('catégorie')['turnover'].sum().reset_index()\n",
    "category_sales"
   ]
  },
  {
   "cell_type": "code",
   "execution_count": 16,
   "id": "12fcc416-87e8-4fc1-860d-b8c254f9fda8",
   "metadata": {},
   "outputs": [
    {
     "data": {
      "image/png": "[encoded data removed]",
      "text/plain": [
       "<Figure size 1200x500 with 1 Axes>"
      ]
     },
     "metadata": {},
     "output_type": "display_data"
    }
   ],
   "source": [
    "plt.figure(figsize = (12, 5))\n",
    "\n",
    "colors_categories = ['#27F5E0', 'yellow', '#F52E27', 'pink']\n",
    "plt.pie(data = category_sales,\n",
    "        autopct= '%1.1f%%',\n",
    "        x = 'turnover', \n",
    "        labels = 'catégorie', \n",
    "        colors = colors_categories)\n",
    "plt.show()"
   ]
  },
  {
   "cell_type": "code",
   "execution_count": 84,
   "id": "b7e69bef-a557-47a1-af02-1e57c69af490",
   "metadata": {},
   "outputs": [
    {
     "data": {
      "text/plain": [
       "Product\n",
       "AAA Batteries (4-pack)        31017\n",
       "AA Batteries (4-pack)         27635\n",
       "USB-C Charging Cable          23975\n",
       "Lightning Charging Cable      23217\n",
       "Wired Headphones              20557\n",
       "Apple Airpods Headphones      15661\n",
       "Bose SoundSport Headphones    13457\n",
       "27in FHD Monitor               7550\n",
       "iPhone                         6849\n",
       "27in 4K Gaming Monitor         6244\n",
       "34in Ultrawide Monitor         6199\n",
       "Google Phone                   5532\n",
       "Flatscreen TV                  4819\n",
       "Macbook Pro Laptop             4728\n",
       "ThinkPad Laptop                4130\n",
       "20in Monitor                   4129\n",
       "Vareebadd Phone                2068\n",
       "LG Washing Machine              666\n",
       "LG Dryer                        646\n",
       "Name: Quantity Ordered, dtype: int64"
      ]
     },
     "execution_count": 84,
     "metadata": {},
     "output_type": "execute_result"
    }
   ],
   "source": [
    "#Popularity by products \n",
    "df.groupby(df['Product'])['Quantity Ordered'].sum().sort_values(ascending = False)"
   ]
  },
  {
   "cell_type": "code",
   "execution_count": 86,
   "id": "d91c8eed-ae2b-4260-a3ef-e0cd0840b48d",
   "metadata": {},
   "outputs": [
    {
     "data": {
      "text/plain": [
       "Product\n",
       "Macbook Pro Laptop            5.385192e+06\n",
       "iPhone                        3.212181e+06\n",
       "ThinkPad Laptop               2.767072e+06\n",
       "Google Phone                  2.223864e+06\n",
       "27in 4K Gaming Monitor        1.631515e+06\n",
       "34in Ultrawide Monitor        1.578224e+06\n",
       "Flatscreen TV                 9.686190e+05\n",
       "Apple Airpods Headphones      8.222025e+05\n",
       "Bose SoundSport Headphones    6.727827e+05\n",
       "Vareebadd Phone               5.542240e+05\n",
       "27in FHD Monitor              3.963486e+05\n",
       "LG Washing Machine            2.677320e+05\n",
       "LG Dryer                      2.596920e+05\n",
       "Lightning Charging Cable      1.735471e+05\n",
       "20in Monitor                  1.589520e+05\n",
       "USB-C Charging Cable          1.432506e+05\n",
       "Wired Headphones              1.232392e+05\n",
       "AA Batteries (4-pack)         5.305920e+04\n",
       "AAA Batteries (4-pack)        4.637042e+04\n",
       "Name: margin, dtype: float64"
      ]
     },
     "execution_count": 86,
     "metadata": {},
     "output_type": "execute_result"
    }
   ],
   "source": [
    "#Profit by products \n",
    "df.groupby(df['Product'])['margin'].sum().sort_values(ascending = False)"
   ]
  }
 ],
 "metadata": {
  "kernelspec": {
   "display_name": "Python 3 (ipykernel)",
   "language": "python",
   "name": "python3"
  },
  "language_info": {
   "codemirror_mode": {
    "name": "ipython",
    "version": 3
   },
   "file_extension": ".py",
   "mimetype": "text/x-python",
   "name": "python",
   "nbconvert_exporter": "python",
   "pygments_lexer": "ipython3",
   "version": "3.13.5"
  }
 },
 "nbformat": 4,
 "nbformat_minor": 5
}
